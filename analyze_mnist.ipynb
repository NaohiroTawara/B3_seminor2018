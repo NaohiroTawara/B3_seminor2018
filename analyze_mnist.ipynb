{
 "cells": [
  {
   "cell_type": "code",
   "execution_count": null,
   "metadata": {
    "collapsed": true
   },
   "outputs": [],
   "source": [
    "from __future__ import print_function\n",
    "import argparse\n",
    "import chainer\n",
    "import chainer.links as L\n",
    "from chainer.serializers import load_npz\n",
    "from train_mnist import MLP\n",
    "import numpy as np\n",
    "from chainer import cuda"
   ]
  },
  {
   "cell_type": "code",
   "execution_count": null,
   "metadata": {
    "collapsed": true
   },
   "outputs": [],
   "source": [
    "gpu=-1 # もしGPUを利用できる場合は 0 \n",
    "unit=1000 #隠れ層のユニット数\n",
    "batchsize=1024 #ミニバッチサイズ"
   ]
  },
  {
   "cell_type": "markdown",
   "metadata": {},
   "source": [
    "# MNIST画像の読み込み"
   ]
  },
  {
   "cell_type": "code",
   "execution_count": null,
   "metadata": {
    "collapsed": true
   },
   "outputs": [],
   "source": [
    "_, test = chainer.datasets.get_mnist()\n",
    "x,t = test._datasets"
   ]
  },
  {
   "cell_type": "markdown",
   "metadata": {},
   "source": [
    "# 学習済みモデルの読み込み"
   ]
  },
  {
   "cell_type": "code",
   "execution_count": null,
   "metadata": {
    "collapsed": true
   },
   "outputs": [],
   "source": [
    "filename='result/model' \n",
    "model = MLP(unit, 10)\n",
    "if gpu >= 0:\n",
    "    # Make a specified GPU current\n",
    "    chainer.cuda.get_device_from_id(gpu).use()\n",
    "    model.to_gpu()  # Copy the model to the GPU\n",
    "load_npz(filename, model)"
   ]
  },
  {
   "cell_type": "markdown",
   "metadata": {},
   "source": [
    "# データをニューラルネットワークに入力し出力を得る<br>(Forward propagation)"
   ]
  },
  {
   "cell_type": "code",
   "execution_count": null,
   "metadata": {
    "collapsed": true
   },
   "outputs": [],
   "source": [
    "x_dnn=np.empty([0, 10])\n",
    "for i in range(0,len(x),batchsize):\n",
    "    x_batch = x[i:i+batchsize]\n",
    "    if gpu >= 0:\n",
    "        x_batch = Variable(cuda.to_gpu(x_batch))\n",
    "    x_dnn = np.r_[x_dnn, cuda.to_cpu(model(x_batch).data)] #model(x_batch).to_cpu().data]"
   ]
  },
  {
   "cell_type": "markdown",
   "metadata": {},
   "source": [
    "# 結果を可視化する\n",
    "<bf>t-SNEという手法を用いて２次元に圧縮し表示する<br>\n",
    "ただし全部をプロットすると計算が大変なので１０００個のみ表示"
   ]
  },
  {
   "cell_type": "code",
   "execution_count": null,
   "metadata": {
    "collapsed": true
   },
   "outputs": [],
   "source": [
    "%matplotlib inline\n",
    "import matplotlib.pyplot as plt\n",
    "from sklearn.manifold import TSNE"
   ]
  },
  {
   "cell_type": "markdown",
   "metadata": {},
   "source": [
    "## 元の画像の2次元プロット\n",
    "<br>（各プロットが１枚の画像を表し色がクラス（数字番号）を示す）"
   ]
  },
  {
   "cell_type": "code",
   "execution_count": null,
   "metadata": {},
   "outputs": [],
   "source": [
    "x_tsn= TSNE(n_components=2).fit_transform(x[:1000])\n",
    "plt.scatter(x_tsn[:1000,0], x_tsn[:1000,1],c=t[:1000], alpha=0.5)\n",
    "plt.title('original image 784 (=28 x 28) dim.  -> 2 dim')\n",
    "plt.show()"
   ]
  },
  {
   "cell_type": "markdown",
   "metadata": {},
   "source": [
    "## ニューラルネットワークの出力（１０次元）の２次元プロット"
   ]
  },
  {
   "cell_type": "code",
   "execution_count": null,
   "metadata": {},
   "outputs": [],
   "source": [
    "x_tsn= TSNE(n_components=2).fit_transform(x_dnn[:1000])\n",
    "plt.scatter(x_tsn[:1000,0], x_tsn[:1000,1],c=t[:1000], alpha=0.5)\n",
    "plt.title('DNN output 10 dim.  -> 2 dim')\n",
    "plt.show()"
   ]
  },
  {
   "cell_type": "markdown",
   "metadata": {},
   "source": [
    "## 学習曲線の表示"
   ]
  },
  {
   "cell_type": "code",
   "execution_count": null,
   "metadata": {},
   "outputs": [],
   "source": [
    "from IPython.display import Image\n",
    "Image('result/accuracy.png')"
   ]
  },
  {
   "cell_type": "code",
   "execution_count": null,
   "metadata": {},
   "outputs": [],
   "source": [
    "from IPython.display import Image\n",
    "Image('result/loss.png')"
   ]
  },
  {
   "cell_type": "markdown",
   "metadata": {},
   "source": [
    "## ニューラルネットの構造を表示"
   ]
  },
  {
   "cell_type": "code",
   "execution_count": null,
   "metadata": {},
   "outputs": [],
   "source": [
    "import pydotplus\n",
    "from IPython.display import Image\n",
    "graph = pydotplus.graphviz.graph_from_dot_file('result/cg.dot')\n",
    "graph.write_png('result/cg.png')\n",
    "Image(graph.create_png())"
   ]
  },
  {
   "cell_type": "code",
   "execution_count": null,
   "metadata": {
    "collapsed": true
   },
   "outputs": [],
   "source": []
  },
  {
   "cell_type": "code",
   "execution_count": null,
   "metadata": {
    "collapsed": true
   },
   "outputs": [],
   "source": []
  }
 ],
 "metadata": {
  "kernelspec": {
   "display_name": "Python 2",
   "language": "python",
   "name": "python2"
  },
  "language_info": {
   "codemirror_mode": {
    "name": "ipython",
    "version": 2
   },
   "file_extension": ".py",
   "mimetype": "text/x-python",
   "name": "python",
   "nbconvert_exporter": "python",
   "pygments_lexer": "ipython2",
   "version": "2.7.12"
  }
 },
 "nbformat": 4,
 "nbformat_minor": 2
}
